{
 "cells": [
  {
   "cell_type": "markdown",
   "id": "8dfe652f-778c-49db-b3a2-d74208c070a3",
   "metadata": {},
   "source": [
    "## Bar charts and their properties in plotly.express\n",
    "\n",
    "We use plotly express for simple graphs such as barcharts\n",
    "\n",
    "https://plotly.com/python/bar-charts/"
   ]
  },
  {
   "cell_type": "code",
   "execution_count": null,
   "id": "66655cc1-1fe0-4a5b-8593-383c8e68ce97",
   "metadata": {
    "scrolled": true
   },
   "outputs": [],
   "source": [
    "import plotly.express as px\n",
    "#this is how we import plotly express\n",
    "\n",
    "data_canada = px.data.gapminder().query(\"country == 'Canada'\")\n",
    "fig = px.bar(data_canada, x='year', y='pop')\n",
    "fig.show()"
   ]
  },
  {
   "cell_type": "markdown",
   "id": "e46ff74d-9d02-4cbc-b4a8-63da27a10ed5",
   "metadata": {},
   "source": [
    "#### Bar charts with wide and long format data\n",
    "You can essentially stack more information on a bar graph using the colour flag\n",
    "The difference between wide and long is how they display their data tables."
   ]
  },
  {
   "cell_type": "code",
   "execution_count": null,
   "id": "6b3e98b9-ae0f-4cf0-963e-c94a9af13623",
   "metadata": {},
   "outputs": [],
   "source": [
    "long_df = px.data.medals_long()\n",
    "\n",
    "fig = px.bar(long_df, x=\"nation\", y=\"count\", color=\"medal\", title=\"Long-Form Input\", height = 500)\n",
    "fig.show()\n",
    "\n",
    "wide_df = px.data.medals_wide()\n",
    "\n",
    "fig = px.bar(wide_df, x=\"nation\", y=[\"gold\", \"silver\", \"bronze\"], title=\"Wide-Form Input\", height = 500)\n",
    "fig.show()\n",
    "\n",
    "#See the use of height flag. This can be used for width aswell."
   ]
  },
  {
   "cell_type": "code",
   "execution_count": null,
   "id": "10f05607-b035-4500-81c5-98c6f5dc9932",
   "metadata": {},
   "outputs": [],
   "source": [
    "#The main difference between long and wide is how their data table displays. \n",
    "wide_df"
   ]
  },
  {
   "cell_type": "code",
   "execution_count": null,
   "id": "e74c0884-0dc6-4690-a68a-a1f13adee647",
   "metadata": {},
   "outputs": [],
   "source": [
    "long_df"
   ]
  },
  {
   "cell_type": "markdown",
   "id": "f54e4adb-bf33-4c73-976c-961926dd9c27",
   "metadata": {},
   "source": [
    "### Coloured bar graphs\n",
    "\n",
    "To add another data dimension to your bar graph you can utilise colours to convey more information. \"hover_data\" is used to display information as data is hovered. Labels can be used to better describe axis."
   ]
  },
  {
   "cell_type": "code",
   "execution_count": null,
   "id": "9b9ddaad-8eeb-4ba6-bccb-ac3c339817f2",
   "metadata": {},
   "outputs": [],
   "source": [
    "df = px.data.gapminder().query(\"country == 'Canada'\")\n",
    "fig = px.bar(df, x='year', y='pop',\n",
    "             hover_data=['lifeExp', 'gdpPercap'], color='lifeExp',\n",
    "             labels={'pop':'population of Canada'}, height=400)\n",
    "fig.show()"
   ]
  },
  {
   "cell_type": "markdown",
   "id": "fc95a169-5567-44d0-a956-172529897f81",
   "metadata": {},
   "source": [
    "### Stacked vs grouped charts\n"
   ]
  },
  {
   "cell_type": "code",
   "execution_count": null,
   "id": "eabf2ca8-9e16-4094-85ee-df6601cdf1ad",
   "metadata": {},
   "outputs": [],
   "source": [
    "df = px.data.tips()\n",
    "#Here is an example of how the data is structured\n",
    "print(df)\n",
    "fig = px.bar(df, x=\"sex\", y=\"total_bill\", color='time', height = 500)\n",
    "fig.show()"
   ]
  },
  {
   "cell_type": "code",
   "execution_count": null,
   "id": "5b0dcac3-d84a-4d86-bc84-a4658713bf90",
   "metadata": {},
   "outputs": [],
   "source": [
    "#We can also group the data here they are grouped by if they are a smoker or not. \n",
    "df = px.data.tips()\n",
    "fig = px.bar(df, x=\"sex\", y=\"total_bill\",\n",
    "             color='smoker', barmode='group',\n",
    "             height=500)\n",
    "fig.show()"
   ]
  },
  {
   "cell_type": "markdown",
   "id": "b3640ab0-6253-4c65-9db0-b104c9dc7f70",
   "metadata": {},
   "source": [
    "### Aggragated and disaggragated \n",
    "In the previous example the data was stacked on top of each other that was because we used \"px.bar\". However if we use \"px.histogram\" we can just combine those data fragments to see the bigger picture. \n",
    "\n",
    "px.bar - one rectangle per row of input\n",
    "px.histogram - one rectangle for the whole\n",
    "\n",
    "https://plotly.com/python/histograms/"
   ]
  },
  {
   "cell_type": "code",
   "execution_count": null,
   "id": "183cbd9b-8e02-4765-a4c6-524d317095f3",
   "metadata": {},
   "outputs": [],
   "source": [
    "df = px.data.tips()\n",
    "fig = px.histogram(df, x=\"sex\", y=\"total_bill\",\n",
    "             color='smoker', barmode='group',\n",
    "             height=500)\n",
    "fig.show()\n",
    "#Same thing only the px.bar changes"
   ]
  },
  {
   "cell_type": "markdown",
   "id": "66ece230-03d0-4f13-ba89-8de29aeea085",
   "metadata": {},
   "source": [
    "The histfunc flag this can be set the avg \"histtfunc = 'avg' \" which should give the avg total bill payed by each group as opposed to sum of it."
   ]
  },
  {
   "cell_type": "markdown",
   "id": "31284251-4fbf-4cc9-9070-7a90ba1ed0f7",
   "metadata": {},
   "source": [
    "### Bar chart with text \n",
    "\n",
    "Bar charts can have text in it which can make viewing simpler especially for non insteractive charts and the ones that are stacked. "
   ]
  },
  {
   "cell_type": "code",
   "execution_count": null,
   "id": "9cb4ce60-2dbc-4cce-8694-4ee602268a86",
   "metadata": {},
   "outputs": [],
   "source": [
    "df = px.data.medals_long()\n",
    "#Use of text_auto = True automatically sets them to their values\n",
    "fig = px.bar(df, x=\"medal\", y=\"count\", color=\"nation\", text_auto=True, height = 500)\n",
    "fig.show()"
   ]
  },
  {
   "cell_type": "code",
   "execution_count": null,
   "id": "d41cbb8a-9d9a-4ac1-9f1e-94cf16a03cdd",
   "metadata": {},
   "outputs": [],
   "source": [
    "df = px.data.medals_long()\n",
    "# You can use any column from df to write on to the graph\n",
    "print(df)\n",
    "fig = px.bar(df, x=\"medal\", y=\"count\", color=\"nation\", text=\"nation\", height=500)\n",
    "fig.show()"
   ]
  },
  {
   "cell_type": "markdown",
   "id": "6ac009b7-eed1-435d-bdec-7e7b9ff290da",
   "metadata": {},
   "source": [
    "By default plotly will manipluate the text sizes and oritnations to maximise the number of visible labels. Which can be odd looking. This can be changed using traces. "
   ]
  },
  {
   "cell_type": "code",
   "execution_count": null,
   "id": "9ca18a71-c5fd-438b-a723-9de88c76e234",
   "metadata": {},
   "outputs": [],
   "source": [
    "#Here is the default version\n",
    "df = px.data.gapminder().query(\"continent == 'Europe' and year == 2007 and pop > 2.e6\")\n",
    "fig = px.bar(df, y='pop', x='country', text_auto='.2s',\n",
    "            title=\"Non-Controlled text sizes, positions and angles\")\n",
    "fig.show()\n",
    "\n",
    "#Here is the version with the traces added \n",
    "\n",
    "df = px.data.gapminder().query(\"continent == 'Europe' and year == 2007 and pop > 2.e6\")\n",
    "fig = px.bar(df, y='pop', x='country', text_auto='.2s',\n",
    "            title=\"Controlled text sizes, positions and angles\")\n",
    "fig.update_traces(textfont_size=12, textangle=0, textposition=\"outside\", cliponaxis=False)\n",
    "fig.show()"
   ]
  },
  {
   "cell_type": "code",
   "execution_count": null,
   "id": "444fa3c6-78e1-4677-b0e8-ada428f22517",
   "metadata": {},
   "outputs": [],
   "source": [
    "#### An accesibility feauture that plotly has is filling which can be useful for colour blind people\n",
    "\n",
    "df = px.data.medals_long()\n",
    "\n",
    "fig = px.bar(df, x=\"medal\", y=\"count\", color=\"nation\",\n",
    "             pattern_shape=\"nation\", pattern_shape_sequence=[\".\", \"x\", \"+\"], height = 500)\n",
    "fig.show()"
   ]
  },
  {
   "cell_type": "markdown",
   "id": "f3754fda-4464-42b1-98bb-7fae4b8022e8",
   "metadata": {},
   "source": [
    "### Faceted sub plots\n",
    "\n",
    "This can be used to quickly display large quantities of information. \n",
    "\n",
    "Use the keyword arguments facet_row to create facetted subplots, where different rows (resp. columns) correspond to different values of the dataframe column specified in facet_row."
   ]
  },
  {
   "cell_type": "code",
   "execution_count": null,
   "id": "2d5c2c7c-7d0c-42bf-8417-f02702ee94a4",
   "metadata": {},
   "outputs": [],
   "source": [
    "df = px.data.tips()\n",
    "#px.bar can be used here\n",
    "fig = px.histogram(df, x=\"sex\", y=\"total_bill\", color=\"smoker\", barmode=\"group\",\n",
    "             facet_row=\"time\", facet_col=\"day\", height = 500 ,\n",
    "             category_orders={\"day\": [\"Thur\", \"Fri\", \"Sat\", \"Sun\"],\n",
    "                              \"time\": [\"Lunch\", \"Dinner\"]})\n",
    "fig.show()"
   ]
  },
  {
   "cell_type": "markdown",
   "id": "4fc16857-43e9-4684-8701-9e2ce47787c6",
   "metadata": {},
   "source": [
    "## Basic Bar Charts using graph_objects"
   ]
  },
  {
   "cell_type": "markdown",
   "id": "423565fd-5369-481a-aa9e-89103de970d8",
   "metadata": {},
   "source": [
    "Most things covered in plotly express can be done in go.\n",
    "\n",
    "Here is a simple example to view to syntax differences.\n",
    "I have given couple other things that arent possible to do using px. \n",
    "As well as those examples there are couple more that are unlikely to be useful to our project\n",
    "Customizing bar widths individually which can tie in to marimekko charts.\n",
    "\n",
    "You can also have coloured and styled bar chart, bar chart with relative bar mode, bar chart with sorted or ordered categories and bar charts with multicategory axis type. You can also have horizontal bar charts with \"orientation = 'h' \" "
   ]
  },
  {
   "cell_type": "code",
   "execution_count": null,
   "id": "39830237-8803-4c37-88d5-f29c9de588d2",
   "metadata": {},
   "outputs": [],
   "source": [
    "import plotly.graph_objects as go\n",
    "animals=['giraffes', 'orangutans', 'monkeys']\n",
    "\n",
    "fig = go.Figure(data=[\n",
    "    go.Bar(name='SF Zoo', x=animals, y=[20, 14, 23]),\n",
    "    go.Bar(name='LA Zoo', x=animals, y=[12, 18, 29])\n",
    "])\n",
    "# Change the bar mode\n",
    "fig.update_layout(barmode='group', height=500,xaxis_tickangle = -45)\n",
    "# Without the xaxis_tick angle flag the lables in the x axis will appear flat however with the flag set to -45 we can angle them. \n",
    "fig.show()"
   ]
  },
  {
   "cell_type": "markdown",
   "id": "478de589-945f-4b19-badb-3f585c48740b",
   "metadata": {},
   "source": [
    "To highlight a single column you can use this example"
   ]
  },
  {
   "cell_type": "code",
   "execution_count": null,
   "id": "370bdb70-ff21-448d-a788-4d13243cd4af",
   "metadata": {},
   "outputs": [],
   "source": [
    "# making all bars gray\n",
    "colors = ['lightslategray',] * 5\n",
    "# setting a select bar to a different color\n",
    "colors[1] = 'crimson'\n",
    "\n",
    "fig = go.Figure(data=[go.Bar(\n",
    "    x=['Feature A', 'Feature B', 'Feature C',\n",
    "       'Feature D', 'Feature E'],\n",
    "    y=[20, 14, 23, 25, 22],\n",
    "    marker_color=colors # marker color can be a single color value or an iterable\n",
    ")])\n",
    "fig.update_layout(title_text='Least Used Feature', height = 500)"
   ]
  },
  {
   "cell_type": "markdown",
   "id": "fb1a5733-52df-4568-9a70-ed8cbbbadd49",
   "metadata": {},
   "source": [
    "### Customizing individual bar base"
   ]
  },
  {
   "cell_type": "code",
   "execution_count": null,
   "id": "4ddf307c-52b6-4b57-a829-920e5bac7f97",
   "metadata": {},
   "outputs": [],
   "source": [
    "\n",
    "years = ['2016','2017','2018']\n",
    "\n",
    "fig = go.Figure()\n",
    "fig.add_trace(go.Bar(x=years, y=[500, 600, 700],\n",
    "                base=[-500,-600,-700],\n",
    "                marker_color='crimson',\n",
    "                name='expenses'))\n",
    "fig.add_trace(go.Bar(x=years, y=[300, 400, 700],\n",
    "                base=0,\n",
    "                marker_color='lightslategrey',\n",
    "                name='revenue'\n",
    "                ))\n",
    "fig.update_layout(title = \"Different bar base\", height = 500)\n",
    "fig.show()"
   ]
  }
 ],
 "metadata": {
  "kernelspec": {
   "display_name": "Python 3",
   "language": "python",
   "name": "python3"
  },
  "language_info": {
   "codemirror_mode": {
    "name": "ipython",
    "version": 3
   },
   "file_extension": ".py",
   "mimetype": "text/x-python",
   "name": "python",
   "nbconvert_exporter": "python",
   "pygments_lexer": "ipython3",
   "version": "3.8.8"
  }
 },
 "nbformat": 4,
 "nbformat_minor": 5
}
