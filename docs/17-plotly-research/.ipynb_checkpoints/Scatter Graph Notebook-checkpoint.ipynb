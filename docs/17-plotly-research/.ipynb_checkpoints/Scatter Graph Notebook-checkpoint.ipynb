{
 "cells": [
  {
   "cell_type": "code",
   "execution_count": null,
   "id": "3af164fa",
   "metadata": {},
   "outputs": [],
   "source": [
    "import plotly.express as px"
   ]
  },
  {
   "cell_type": "markdown",
   "id": "b82ba385",
   "metadata": {},
   "source": [
    "# USEFUL WEBSITES\n",
    "## Scatter Plots\n",
    "https://plotly.com/python-api-reference/generated/plotly.express.scatter.html\n",
    "\n",
    "https://plotly.com/python/line-and-scatter/\n",
    "## Bar Plots\n",
    "https://plotly.com/python-api-reference/generated/plotly.express.bar\n",
    "\n",
    "https://plotly.com/python/bar-charts/\n",
    "## Pie Plots\n",
    "https://plotly.com/python-api-reference/generated/plotly.express.pie#:~:text=In%20a%20pie%20plot%2C%20each,a%20sector%20of%20a%20pie.&text=data_frame%20\n",
    "\n",
    "https://plotly.com/python/pie-charts/"
   ]
  },
  {
   "cell_type": "markdown",
   "id": "3d4359aa",
   "metadata": {},
   "source": [
    "# Examples of Different Basic Plotly Graphs - \n",
    "\n"
   ]
  },
  {
   "cell_type": "markdown",
   "id": "dc93dc6c",
   "metadata": {},
   "source": [
    "## Basic Scatter Plot\n",
    "\n"
   ]
  },
  {
   "cell_type": "code",
   "execution_count": null,
   "id": "aa39a9f8",
   "metadata": {},
   "outputs": [],
   "source": [
    "fig = px.scatter(x=[0, 1, 2, 3, 4], y=[0, 1, 4, 9, 16], width=500, height=500)\n",
    "fig.show()"
   ]
  },
  {
   "cell_type": "markdown",
   "id": "bcd982e5",
   "metadata": {},
   "source": [
    "## Basic Bar Plot"
   ]
  },
  {
   "cell_type": "code",
   "execution_count": null,
   "id": "d5cf9004",
   "metadata": {},
   "outputs": [],
   "source": [
    "data_canada = px.data.gapminder().query(\"country == 'Canada'\")\n",
    "fig = px.bar(data_canada, x='year', y='pop', width=500, height=500)\n",
    "fig.show()"
   ]
  },
  {
   "cell_type": "markdown",
   "id": "90c705b5",
   "metadata": {},
   "source": [
    "## Basic Pie Plot\n"
   ]
  },
  {
   "cell_type": "code",
   "execution_count": null,
   "id": "c7026c76",
   "metadata": {},
   "outputs": [],
   "source": [
    "df = px.data.tips()\n",
    "fig = px.pie(df, values='tip', names='day')\n",
    "fig.show()"
   ]
  },
  {
   "cell_type": "markdown",
   "id": "1b4be1f2",
   "metadata": {},
   "source": [
    " "
   ]
  },
  {
   "cell_type": "markdown",
   "id": "25f81321",
   "metadata": {},
   "source": [
    "## Scatter Plot Configuration Options"
   ]
  },
  {
   "cell_type": "markdown",
   "id": "0b60ab31",
   "metadata": {},
   "source": [
    "### Width and Size\n",
    "- To begin, a first obvious option when creating a graph is Width and Size. These are defined by parameters width=x,size=x."
   ]
  },
  {
   "cell_type": "code",
   "execution_count": null,
   "id": "e95c9f03",
   "metadata": {},
   "outputs": [],
   "source": [
    "fig = px.scatter(x=[0, 1, 2, 3, 4], y=[0, 1, 4, 9, 16], width=400, height=400)\n",
    "fig.show()"
   ]
  },
  {
   "cell_type": "code",
   "execution_count": null,
   "id": "71c5684d",
   "metadata": {},
   "outputs": [],
   "source": [
    "fig = px.scatter(x=[0, 1, 2, 3, 4], y=[0, 1, 4, 9, 16], width=600, height=400)\n",
    "fig.show()"
   ]
  },
  {
   "cell_type": "markdown",
   "id": "c0e367a7",
   "metadata": {},
   "source": [
    "### Dataframes\n",
    "- X and Y columns for the graph can be specified using lists for each axis as shown above, OR: Using \"Dataframes\".\n",
    "- In the example below, \"df\" is a \"Pandas Dataframe\", essentially a 2D Matrix of Rows and Columns with titles\n",
    "https://www.w3schools.com/python/pandas/pandas_dataframes.asp\n",
    "- (Not sure how useful this method would be if we are going to importing data from a CSV)\n",
    "- The df below seems to just be a dataset on properties of a plant"
   ]
  },
  {
   "cell_type": "code",
   "execution_count": null,
   "id": "0daeba08",
   "metadata": {},
   "outputs": [],
   "source": [
    "df = px.data.iris() # iris is a pandas DataFrame\n",
    "print(df)\n",
    "fig = px.scatter(df, x=\"sepal_width\", y=\"sepal_length\")\n",
    "fig.show()"
   ]
  },
  {
   "cell_type": "markdown",
   "id": "7e6151c1",
   "metadata": {},
   "source": [
    "### Using Plot Point Colours to Represent More Data\n",
    "- The Scatter Plot above only marks points on the graph based on their width and length. But if we wanted more information, say the species of the plant at that size, then we could use the \"color\" property.\n",
    "- Below, I have set the color of the scatter point to identify the species type."
   ]
  },
  {
   "cell_type": "code",
   "execution_count": null,
   "id": "e8c3f19e",
   "metadata": {},
   "outputs": [],
   "source": [
    "df = px.data.iris()\n",
    "fig = px.scatter(df, x=\"sepal_width\", y=\"sepal_length\", color=\"species\")\n",
    "fig.show()"
   ]
  },
  {
   "cell_type": "markdown",
   "id": "f17b22dc",
   "metadata": {},
   "source": [
    "- Above, color was used to represent a discrete variable (aka species, with only 3 different options).\n",
    "- If a continious variable such as petal_length was used, this is the result:"
   ]
  },
  {
   "cell_type": "code",
   "execution_count": null,
   "id": "ae312fbc",
   "metadata": {},
   "outputs": [],
   "source": [
    "df = px.data.iris()\n",
    "fig = px.scatter(df, x=\"sepal_width\", y=\"sepal_length\", color=\"petal_length\")\n",
    "fig.show()"
   ]
  },
  {
   "cell_type": "markdown",
   "id": "35a61170",
   "metadata": {},
   "source": [
    "### Using Different Plot Symbols to Represent More Data\n",
    "- Instead of \"color\" to modify the points, \"symbol\" can be used instead."
   ]
  },
  {
   "cell_type": "code",
   "execution_count": null,
   "id": "034f4248",
   "metadata": {},
   "outputs": [],
   "source": [
    "df = px.data.iris()\n",
    "fig = px.scatter(df, x=\"sepal_width\", y=\"sepal_length\",symbol=\"species\")\n",
    "fig.show()"
   ]
  },
  {
   "cell_type": "markdown",
   "id": "0468beee",
   "metadata": {},
   "source": [
    "### Updating Point Size\n",
    "- These points are small though. We can uniformally update all scatter point sizes as shown below."
   ]
  },
  {
   "cell_type": "code",
   "execution_count": null,
   "id": "1875a5e8",
   "metadata": {},
   "outputs": [],
   "source": [
    "df = px.data.iris()\n",
    "fig = px.scatter(df, x=\"sepal_width\", y=\"sepal_length\",symbol=\"species\")\n",
    "fig.update_traces(marker={'size': 10})\n",
    "fig.show()"
   ]
  },
  {
   "cell_type": "markdown",
   "id": "5f9bc658",
   "metadata": {},
   "source": [
    "### Updating the Title and Graph Labels\n",
    "- To update the title of the graph:"
   ]
  },
  {
   "cell_type": "code",
   "execution_count": null,
   "id": "8352363d",
   "metadata": {},
   "outputs": [],
   "source": [
    "df = px.data.iris() # iris is a pandas DataFrame\n",
    "fig = px.scatter(df, x=\"sepal_width\", y=\"sepal_length\",title=\"Test\")\n",
    "fig.show()"
   ]
  },
  {
   "cell_type": "markdown",
   "id": "3bfa343d",
   "metadata": {},
   "source": [
    "- Manually Specifying Axis Labels"
   ]
  },
  {
   "cell_type": "code",
   "execution_count": null,
   "id": "cbfb9874",
   "metadata": {},
   "outputs": [],
   "source": [
    "df = px.data.iris() # iris is a pandas DataFrame\n",
    "fig = px.scatter(df, x=\"sepal_width\", y=\"sepal_length\", labels={\n",
    "                     \"sepal_length\": \"Sepal Length (cm)\",\n",
    "                     \"sepal_width\": \"Sepal Width (cm)\"\n",
    "                 },)\n",
    "fig.show()"
   ]
  },
  {
   "cell_type": "markdown",
   "id": "27686670",
   "metadata": {},
   "source": [
    "## Trendlines\n",
    "- The trendline parameter has different versions, but \"ols\" seems to just be a basic version. See the documentation for more"
   ]
  },
  {
   "cell_type": "code",
   "execution_count": null,
   "id": "756176ff",
   "metadata": {},
   "outputs": [],
   "source": [
    "df = px.data.tips()\n",
    "fig = px.scatter(df, x=\"total_bill\", y=\"tip\", trendline=\"ols\")\n",
    "fig.show()"
   ]
  }
 ],
 "metadata": {
  "kernelspec": {
   "display_name": "Python 3",
   "language": "python",
   "name": "python3"
  },
  "language_info": {
   "codemirror_mode": {
    "name": "ipython",
    "version": 3
   },
   "file_extension": ".py",
   "mimetype": "text/x-python",
   "name": "python",
   "nbconvert_exporter": "python",
   "pygments_lexer": "ipython3",
   "version": "3.8.8"
  }
 },
 "nbformat": 4,
 "nbformat_minor": 5
}
