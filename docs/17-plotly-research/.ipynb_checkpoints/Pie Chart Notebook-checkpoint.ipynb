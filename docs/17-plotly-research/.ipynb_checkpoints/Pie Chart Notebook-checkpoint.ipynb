{
 "cells": [
  {
   "cell_type": "markdown",
   "id": "e9176845",
   "metadata": {},
   "source": [
    "# USEFUL WEBSITES\n",
    "## Scatter Plots\n",
    "https://plotly.com/python-api-reference/generated/plotly.express.scatter.html\n",
    "\n",
    "https://plotly.com/python/line-and-scatter/\n",
    "## Bar Plots\n",
    "https://plotly.com/python-api-reference/generated/plotly.express.bar\n",
    "\n",
    "https://plotly.com/python/bar-charts/\n",
    "## Pie Plots\n",
    "https://plotly.com/python-api-reference/generated/plotly.express.pie#:~:text=In%20a%20pie%20plot%2C%20each,a%20sector%20of%20a%20pie.&text=data_frame%20\n",
    "\n",
    "https://plotly.com/python/pie-charts/"
   ]
  },
  {
   "cell_type": "markdown",
   "id": "3239db15",
   "metadata": {},
   "source": [
    "## Also - you may need to pip install plotly, pip install pandas"
   ]
  },
  {
   "cell_type": "code",
   "execution_count": null,
   "id": "ed6f2779",
   "metadata": {},
   "outputs": [],
   "source": [
    "import plotly.express as px"
   ]
  },
  {
   "cell_type": "markdown",
   "id": "a87b3b7d",
   "metadata": {},
   "source": [
    "## Basic Example of a Pie Chart"
   ]
  },
  {
   "cell_type": "markdown",
   "id": "c28d812b",
   "metadata": {},
   "source": [
    "- Below is an example of a basic pie-chart. The data being used for this is a dataframe. I have printed a cutout of the data involved.\n",
    "- The \"values\" field is the field of data that will be used to split up the Pie Chart, where in this example \"values\" is set to the tips field.\n",
    "- \"names\" is the parameter that gives the slices of the piechart. In this example names=\"day\". So, the Pie Chart will be sliced up depending on Day, and each Day slice represents how much of the total tips were given on that day."
   ]
  },
  {
   "cell_type": "code",
   "execution_count": null,
   "id": "bb8d8160",
   "metadata": {
    "scrolled": false
   },
   "outputs": [],
   "source": [
    "df = px.data.tips()\n",
    "print(df)\n",
    "fig = px.pie(df, values='tip', names='day')\n",
    "fig.show()"
   ]
  },
  {
   "cell_type": "markdown",
   "id": "c4000e9b",
   "metadata": {},
   "source": [
    "- Instead of using the df format, you could just specify it with lists instead:"
   ]
  },
  {
   "cell_type": "code",
   "execution_count": null,
   "id": "92cfdef2",
   "metadata": {},
   "outputs": [],
   "source": [
    "labels = ['Oxygen','Hydrogen','Carbon_Dioxide','Nitrogen']\n",
    "values = [4500, 2500, 1053, 500]\n",
    "\n",
    "fig = px.pie(values=values,labels=labels)\n",
    "fig.show()"
   ]
  },
  {
   "cell_type": "markdown",
   "id": "d1b7f868",
   "metadata": {},
   "source": [
    "## Changing the Color of the Chart"
   ]
  },
  {
   "cell_type": "markdown",
   "id": "52d2e252",
   "metadata": {},
   "source": [
    "- You can either choose from a preset sequence of colors, or specify your own colours for each slice depending on the Slice Name (from the df)"
   ]
  },
  {
   "cell_type": "code",
   "execution_count": null,
   "id": "dfbbdb0c",
   "metadata": {},
   "outputs": [],
   "source": [
    "df = px.data.tips()\n",
    "fig = px.pie(df, values='tip', names='day', color_discrete_sequence=px.colors.sequential.RdBu)\n",
    "fig.show()"
   ]
  },
  {
   "cell_type": "markdown",
   "id": "320be9c3",
   "metadata": {},
   "source": [
    "## Text-Orentiation in Pie Chart"
   ]
  },
  {
   "cell_type": "markdown",
   "id": "997d2eff",
   "metadata": {},
   "source": [
    "- You can change the way text inside the slices are orientated.\n",
    "- To do this you must use fig.update_traces()"
   ]
  },
  {
   "cell_type": "code",
   "execution_count": null,
   "id": "628d8c77",
   "metadata": {},
   "outputs": [],
   "source": [
    "df = px.data.tips()\n",
    "fig = px.pie(df, values='tip', names='day')\n",
    "fig.update_traces(insidetextorientation='radial') \n",
    "fig.show()"
   ]
  },
  {
   "cell_type": "markdown",
   "id": "bedf0f69",
   "metadata": {},
   "source": [
    "## Graph Objects\n",
    "- Some functionality of Pie Charts arent available plotly.express. plotly.graph_objects is needed"
   ]
  },
  {
   "cell_type": "code",
   "execution_count": null,
   "id": "680b12fc",
   "metadata": {},
   "outputs": [],
   "source": [
    "import plotly.graph_objects as go"
   ]
  },
  {
   "cell_type": "markdown",
   "id": "dd649547",
   "metadata": {},
   "source": [
    "## Pulled Out Slices\n",
    "- We can pull out sectors from the main Pie as below:"
   ]
  },
  {
   "cell_type": "code",
   "execution_count": null,
   "id": "f267fc7c",
   "metadata": {},
   "outputs": [],
   "source": [
    "labels = ['Oxygen','Hydrogen','Carbon_Dioxide','Nitrogen']\n",
    "values = [4500, 2500, 1053, 500]\n",
    "\n",
    "# pull is given as a fraction of the pie radius\n",
    "fig = go.Figure(data=[go.Pie(labels=labels, values=values, pull=[0, 0, 0.2, 0])])\n",
    "fig.show()"
   ]
  },
  {
   "cell_type": "markdown",
   "id": "42c6564f",
   "metadata": {},
   "source": [
    "## Styled Pie Charts\n",
    "- You can change the look of a pie chart as below:"
   ]
  },
  {
   "cell_type": "code",
   "execution_count": null,
   "id": "46a3f1cd",
   "metadata": {},
   "outputs": [],
   "source": [
    "colors = ['gold', 'mediumturquoise', 'darkorange', 'lightgreen']\n",
    "\n",
    "fig = go.Figure(data=[go.Pie(labels=['Oxygen','Hydrogen','Carbon_Dioxide','Nitrogen'],\n",
    "                             values=[4500,2500,1053,500])])\n",
    "fig.update_traces(hoverinfo='label+percent', textinfo='value', textfont_size=20,\n",
    "                  marker=dict(colors=colors, line=dict(color='#000000', width=2)))\n",
    "fig.show()"
   ]
  },
  {
   "cell_type": "markdown",
   "id": "c51cc460",
   "metadata": {},
   "source": [
    "See more fuctionality of Pie Charts at:\n",
    "https://plotly.com/python/pie-charts/\n",
    "\n",
    "https://plotly.com/python-api-reference/generated/plotly.express.pie#:~:text=In%20a%20pie%20plot%2C%20each,a%20sector%20of%20a%20pie.&text=data_frame%20"
   ]
  }
 ],
 "metadata": {
  "kernelspec": {
   "display_name": "Python 3",
   "language": "python",
   "name": "python3"
  },
  "language_info": {
   "codemirror_mode": {
    "name": "ipython",
    "version": 3
   },
   "file_extension": ".py",
   "mimetype": "text/x-python",
   "name": "python",
   "nbconvert_exporter": "python",
   "pygments_lexer": "ipython3",
   "version": "3.8.8"
  }
 },
 "nbformat": 4,
 "nbformat_minor": 5
}
